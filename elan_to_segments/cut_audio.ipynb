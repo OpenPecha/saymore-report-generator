{
 "cells": [
  {
   "cell_type": "code",
   "execution_count": 17,
   "metadata": {},
   "outputs": [],
   "source": [
    "from pathlib import Path\n",
    "csv_path = Path('/home/monlamai/Documents/GitHub/saymore-report-generator/data/csv')\n",
    "have_csv = set([e.stem for e in csv_path.iterdir() if e.is_file()])"
   ]
  },
  {
   "cell_type": "code",
   "execution_count": 18,
   "metadata": {},
   "outputs": [
    {
     "name": "stdout",
     "output_type": "stream",
     "text": [
      "44368\n"
     ]
    }
   ],
   "source": [
    "from datetime import datetime\n",
    "def sec_to_millis(sec):\n",
    "    return sec * 1000\n",
    "\n",
    "def time_to_milli_seconds(time_str):\n",
    "    try:\n",
    "        time_obj = datetime.strptime(time_str, '%H:%M:%S.%f')\n",
    "        total_seconds = (time_obj.hour * 3600) + (time_obj.minute * 60) + time_obj.second + (time_obj.microsecond / 1e6)\n",
    "        return round(sec_to_millis(total_seconds))\n",
    "    except ValueError:\n",
    "        raise ValueError(\"Invalid time format. Use '00:00:44.368' format.\")\n",
    "\n",
    "# Example usage:\n",
    "time_str = \"00:00:44.368\"\n",
    "mills = time_to_milli_seconds(time_str)\n",
    "print(mills)"
   ]
  },
  {
   "cell_type": "code",
   "execution_count": 20,
   "metadata": {},
   "outputs": [],
   "source": [
    "import pandas as pd\n",
    "import subprocess\n",
    "from pathlib import Path\n",
    "for file in have_csv:\n",
    "    df = pd.read_csv(f\"/home/monlamai/Documents/GitHub/saymore-report-generator/data/csv/{file}.csv\")\n",
    "    # print(file)\n",
    "    for i, row in df.iterrows():\n",
    "        start = row[\"from\"]\n",
    "        end = row[\"to\"]\n",
    "        if(Path(f\"/home/monlamai/Documents/GitHub/saymore-report-generator/data/segments/{file}_{i:04}_{time_to_milli_seconds(start)}_to_{time_to_milli_seconds(end)}.wav\").exists()):\n",
    "            # print('already exists')\n",
    "            continue\n",
    "        # print(f\"ffmpeg -i /home/monlamai/Documents/GitHub/saymore-report-generator/data/full_audio/{file}.wav -ss {start} -to {end} /home/monlamai/Documents/GitHub/saymore-report-generator/data/segments/{file}_{i:04}_{time_to_milli_seconds(start)}_to_{time_to_milli_seconds(end)}.wav\")\n",
    "        # !ffmpeg -i /home/monlamai/Documents/GitHub/saymore-report-generator/data/full_audio/{file}.wav -ss {start} -to {end} /home/monlamai/Documents/GitHub/saymore-report-generator/data/segments/{file}_{i:04}_{time_to_milli_seconds(start)}_to_{time_to_milli_seconds(end)}.wav\n",
    "        subprocess.run(f\"ffmpeg -i /home/monlamai/Documents/GitHub/saymore-report-generator/data/full_audio/{file}.wav -ss {start} -to {end} /home/monlamai/Documents/GitHub/saymore-report-generator/data/segments/{file}_{i:04}_{time_to_milli_seconds(start)}_to_{time_to_milli_seconds(end)}.wav\", shell=True)"
   ]
  }
 ],
 "metadata": {
  "kernelspec": {
   "display_name": ".env",
   "language": "python",
   "name": "python3"
  },
  "language_info": {
   "codemirror_mode": {
    "name": "ipython",
    "version": 3
   },
   "file_extension": ".py",
   "mimetype": "text/x-python",
   "name": "python",
   "nbconvert_exporter": "python",
   "pygments_lexer": "ipython3",
   "version": "3.10.12"
  },
  "orig_nbformat": 4
 },
 "nbformat": 4,
 "nbformat_minor": 2
}
