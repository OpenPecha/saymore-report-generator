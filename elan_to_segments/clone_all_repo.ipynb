{
 "cells": [
  {
   "cell_type": "code",
   "execution_count": null,
   "metadata": {},
   "outputs": [],
   "source": [
    "from pathlib import Path\n",
    "repo_list = Path(f'../data/repo_list/{team_name}.txt').read_text().split('\\n')"
   ]
  },
  {
   "cell_type": "code",
   "execution_count": null,
   "metadata": {},
   "outputs": [],
   "source": [
    "import requests\n",
    "from tqdm.auto import tqdm\n",
    "GITHUB_API_URL = \"https://api.github.com/repos/\"\n",
    "TOKEN = \"\"  # Replace with your GitHub Personal Access Token\n",
    "HEADERS = {\n",
    "    \"Authorization\": f\"token {TOKEN}\",\n",
    "    \"Accept\": \"application/vnd.github.v3+json\"\n",
    "}\n",
    "\n",
    "def change_repo_visibility_to_public(owner, repo_name):\n",
    "    \"\"\"Change the visibility of a GitHub repository to public.\"\"\"\n",
    "    url = f\"{GITHUB_API_URL}{owner}/{repo_name}\"\n",
    "    \n",
    "    response = requests.patch(url, headers=HEADERS, json={\"visibility\": \"public\"})\n",
    "    \n",
    "    if response.status_code == 200:\n",
    "        print(f\"Successfully changed the visibility of {repo_name} to public.\")\n",
    "    else:\n",
    "        print(f\"Failed to change the visibility of {repo_name}. Response: {response.text}\")\n",
    "\n",
    "\n",
    "for repo in tqdm(repo_list):\n",
    "    change_repo_visibility_to_public(\"MonlamAI\", repo)"
   ]
  },
  {
   "cell_type": "code",
   "execution_count": null,
   "metadata": {},
   "outputs": [],
   "source": [
    "clone_path = '/home/ec2-user/SageMaker/STT_NW'\n",
    "\n",
    "for repo in movie_list_repos:\n",
    "    clone_command = f\"git clone https://github.com/MonlamAI/{repo}.git {clone_path}/{repo}\"\n",
    "    !{clone_command}"
   ]
  }
 ],
 "metadata": {
  "language_info": {
   "name": "python"
  }
 },
 "nbformat": 4,
 "nbformat_minor": 2
}
