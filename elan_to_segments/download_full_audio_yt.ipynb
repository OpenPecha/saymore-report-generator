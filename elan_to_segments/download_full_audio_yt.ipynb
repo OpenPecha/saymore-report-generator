{
 "cells": [
  {
   "cell_type": "code",
   "execution_count": 2,
   "metadata": {},
   "outputs": [
    {
     "name": "stdout",
     "output_type": "stream",
     "text": [
      "Requirement already satisfied: yt-dlp in /home/monlamai/Documents/GitHub/saymore-report-generator/.env/lib/python3.10/site-packages (2023.7.6)\n",
      "Requirement already satisfied: mutagen in /home/monlamai/Documents/GitHub/saymore-report-generator/.env/lib/python3.10/site-packages (from yt-dlp) (1.46.0)\n",
      "Requirement already satisfied: brotli in /home/monlamai/Documents/GitHub/saymore-report-generator/.env/lib/python3.10/site-packages (from yt-dlp) (1.0.9)\n",
      "Requirement already satisfied: certifi in /home/monlamai/Documents/GitHub/saymore-report-generator/.env/lib/python3.10/site-packages (from yt-dlp) (2023.7.22)\n",
      "Requirement already satisfied: pycryptodomex in /home/monlamai/Documents/GitHub/saymore-report-generator/.env/lib/python3.10/site-packages (from yt-dlp) (3.18.0)\n",
      "Requirement already satisfied: websockets in /home/monlamai/Documents/GitHub/saymore-report-generator/.env/lib/python3.10/site-packages (from yt-dlp) (11.0.3)\n"
     ]
    }
   ],
   "source": [
    "!pip install -U yt-dlp"
   ]
  },
  {
   "cell_type": "code",
   "execution_count": 7,
   "metadata": {},
   "outputs": [],
   "source": [
    "import pandas as pd\n",
    "from pathlib import Path\n",
    "import os"
   ]
  },
  {
   "cell_type": "code",
   "execution_count": 8,
   "metadata": {},
   "outputs": [],
   "source": [
    "def read_spreadsheet():\n",
    "    SHEET_ID = \"1UOhU5Jcge89URmfagDf7Imm_QP74opOx6QsS2LaOSd0\"\n",
    "    url = f\"https://docs.google.com/spreadsheets/d/{SHEET_ID}/gviz/tq?tqx=out:csv\"\n",
    "    df = pd.read_csv(url)\n",
    "    return df\n",
    "\n",
    "def download_audio(id, yt_url):\n",
    "    if Path(f\"../data/full_audio/{id}.wav\").exists():\n",
    "        return\n",
    "    print(f\"Downloading {id}\")\n",
    "    os.system(\n",
    "        f\"\"\"yt-dlp --extract-audio --audio-quality 0 --audio-format wav --postprocessor-args \"-ar 16000 -ac 1\" {yt_url} -o '../data/full_audio/{id}.%(ext)s'\"\"\"\n",
    "    )"
   ]
  },
  {
   "cell_type": "code",
   "execution_count": 9,
   "metadata": {},
   "outputs": [],
   "source": [
    "csv_path = Path('../data/csv')\n",
    "have_csv = set([e.stem for e in csv_path.iterdir() if e.is_file()])"
   ]
  },
  {
   "cell_type": "code",
   "execution_count": 10,
   "metadata": {},
   "outputs": [],
   "source": [
    "df = read_spreadsheet()\n",
    "\n",
    "for file in have_csv:\n",
    "    row = df[df['ID'] == file].iloc[0]\n",
    "    id = row['ID']\n",
    "    yt_url = row['Source URL']\n",
    "    sr_no = row['Sr.no']\n",
    "    # print(id, yt_url)\n",
    "    download_audio(id, yt_url)"
   ]
  }
 ],
 "metadata": {
  "kernelspec": {
   "display_name": ".env",
   "language": "python",
   "name": "python3"
  },
  "language_info": {
   "codemirror_mode": {
    "name": "ipython",
    "version": 3
   },
   "file_extension": ".py",
   "mimetype": "text/x-python",
   "name": "python",
   "nbconvert_exporter": "python",
   "pygments_lexer": "ipython3",
   "version": "3.10.12"
  },
  "orig_nbformat": 4
 },
 "nbformat": 4,
 "nbformat_minor": 2
}
