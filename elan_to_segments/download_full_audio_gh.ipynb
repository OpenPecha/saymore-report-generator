{
 "cells": [
  {
   "cell_type": "code",
   "execution_count": 6,
   "metadata": {},
   "outputs": [],
   "source": [
    "import os\n",
    "import requests"
   ]
  },
  {
   "cell_type": "code",
   "execution_count": 7,
   "metadata": {},
   "outputs": [
    {
     "name": "stdout",
     "output_type": "stream",
     "text": [
      "File STT_MV0271.wav already exists. Skipping download.\n",
      "File STT_MV0471.wav already exists. Skipping download.\n",
      "File STT_MV0277.wav already exists. Skipping download.\n",
      "File STT_MV0475.wav already exists. Skipping download.\n",
      "File STT_MV0272.wav already exists. Skipping download.\n",
      "File STT_MV0464.wav already exists. Skipping download.\n",
      "File STT_MV0463.wav already exists. Skipping download.\n",
      "File STT_MV0466.wav already exists. Skipping download.\n",
      "File STT_MV0276.wav already exists. Skipping download.\n",
      "File STT_MV0462.wav already exists. Skipping download.\n",
      "File STT_MV0465.wav already exists. Skipping download.\n",
      "File STT_MV0469.wav already exists. Skipping download.\n",
      "File STT_MV0274.wav already exists. Skipping download.\n",
      "File STT_MV0273.wav already exists. Skipping download.\n",
      "No download URL found for asset 'videoplayback_Source.mp4'\n",
      "Downloading asset 'videoplayback_Source_StandardAudio.wav' from MonlamAI/STT_MV0119\n",
      "Downloaded videoplayback_Source_StandardAudio.wav\n"
     ]
    }
   ],
   "source": [
    "def download_release_assets(repo_owner, repo_name):\n",
    "    if not os.path.exists(\"audio_from_gh\"):\n",
    "        os.makedirs(\"audio_from_gh\")\n",
    "    if os.path.exists(f\"audio_from_gh/{repo_name}.wav\"):\n",
    "        print(f\"File {repo_name}.wav already exists. Skipping download.\")\n",
    "        return    \n",
    "    url = f\"https://api.github.com/repos/{repo_owner}/{repo_name}/releases/latest\"\n",
    "    response = requests.get(url)\n",
    "    \n",
    "    if response.status_code == 200:\n",
    "        release_data = response.json()\n",
    "        assets = release_data.get('assets', [])\n",
    "        \n",
    "        if not assets:\n",
    "            print(f\"No assets found for {repo_owner}/{repo_name}\")\n",
    "            return\n",
    "        \n",
    "        for asset in assets:\n",
    "            asset_name = asset.get('name', 'unknown_asset')\n",
    "            asset_url = asset.get('browser_download_url', None)\n",
    "            \n",
    "            if asset_url and asset_name == 'videoplayback_Source_StandardAudio.wav':\n",
    "                print(f\"Downloading asset '{asset_name}' from {repo_owner}/{repo_name}\")\n",
    "                download_asset(asset_url, asset_name, repo_name)\n",
    "            else:\n",
    "                print(f\"No download URL found for asset '{asset_name}'\")\n",
    "    else:\n",
    "        print(f\"Failed to fetch release data for {repo_owner}/{repo_name}. Status code: {response.status_code}\")\n",
    "\n",
    "def download_asset(asset_url, asset_name, repo_name):\n",
    "    response = requests.get(asset_url)\n",
    "    \n",
    "    if response.status_code == 200:\n",
    "        with open(f\"audio_from_gh/{repo_name}.wav\", 'wb') as f:\n",
    "            f.write(response.content)\n",
    "        print(f\"Downloaded {asset_name}\")\n",
    "    else:\n",
    "        print(f\"Failed to download asset '{asset_name}' from {asset_url}. Status code: {response.status_code}\")\n",
    "\n",
    "repositories = [\n",
    "    {\"owner\": \"MonlamAI\", \"name\": \"STT_MV0271\"},\n",
    "    {\"owner\": \"MonlamAI\", \"name\": \"STT_MV0471\"},\n",
    "    {\"owner\": \"MonlamAI\", \"name\": \"STT_MV0277\"},\n",
    "    {\"owner\": \"MonlamAI\", \"name\": \"STT_MV0475\"},\n",
    "    {\"owner\": \"MonlamAI\", \"name\": \"STT_MV0272\"},\n",
    "    {\"owner\": \"MonlamAI\", \"name\": \"STT_MV0464\"},\n",
    "    {\"owner\": \"MonlamAI\", \"name\": \"STT_MV0463\"},\n",
    "    {\"owner\": \"MonlamAI\", \"name\": \"STT_MV0466\"},\n",
    "    {\"owner\": \"MonlamAI\", \"name\": \"STT_MV0276\"},\n",
    "    {\"owner\": \"MonlamAI\", \"name\": \"STT_MV0462\"},\n",
    "    {\"owner\": \"MonlamAI\", \"name\": \"STT_MV0465\"},\n",
    "    {\"owner\": \"MonlamAI\", \"name\": \"STT_MV0469\"},\n",
    "    {\"owner\": \"MonlamAI\", \"name\": \"STT_MV0274\"},\n",
    "    {\"owner\": \"MonlamAI\", \"name\": \"STT_MV0273\"},\n",
    "    {\"owner\": \"MonlamAI\", \"name\": \"STT_MV0119\"},\n",
    "]\n",
    "\n",
    "for repo in repositories:\n",
    "    download_release_assets(repo[\"owner\"], repo[\"name\"])\n"
   ]
  },
  {
   "cell_type": "code",
   "execution_count": 8,
   "metadata": {},
   "outputs": [],
   "source": [
    "import subprocess\n",
    "def convert_to_16K(file):\n",
    "    if(os.path.exists(f\"audio_16k/{file}.wav\")):\n",
    "        return False\n",
    "    convert_command = f\"\"\"ffmpeg -i audio_from_gh/{file}.wav -f wav -bitexact -acodec pcm_s16le -ac 1 -ar 16000 audio_16k/{file}.wav -y\"\"\"\n",
    "    subprocess.run(convert_command, shell=True, capture_output=True)\n",
    "    return True"
   ]
  },
  {
   "cell_type": "code",
   "execution_count": 9,
   "metadata": {},
   "outputs": [],
   "source": [
    "from pathlib import Path\n",
    "path = Path('./audio_from_gh')\n",
    "full_audios = set([e.stem for e in path.iterdir() if e.is_file()])"
   ]
  },
  {
   "cell_type": "code",
   "execution_count": 10,
   "metadata": {},
   "outputs": [
    {
     "name": "stdout",
     "output_type": "stream",
     "text": [
      "STT_MV0471\n",
      "STT_MV0466\n",
      "STT_MV0272\n",
      "STT_MV0271\n",
      "STT_MV0469\n",
      "STT_MV0462\n",
      "STT_MV0277\n",
      "STT_MV0273\n",
      "STT_MV0475\n",
      "STT_MV0463\n",
      "STT_MV0276\n",
      "STT_MV0119\n",
      "STT_MV0465\n",
      "STT_MV0464\n",
      "STT_MV0274\n"
     ]
    }
   ],
   "source": [
    "for full_audio in full_audios:\n",
    "    print(full_audio)\n",
    "    convert_to_16K(full_audio)"
   ]
  },
  {
   "cell_type": "code",
   "execution_count": 17,
   "metadata": {},
   "outputs": [],
   "source": [
    "import shutil\n",
    "import os\n",
    "for file in os.listdir(\"audio_16k\"):\n",
    "    if not os.path.exists( os.path.join(\"../data/full_audio/\",file)):\n",
    "        print(\"coppying \", file)\n",
    "        shutil.copy(os.path.join(\"audio_16k\",file), os.path.join(\"../data/full_audio/\",file))"
   ]
  },
  {
   "cell_type": "code",
   "execution_count": null,
   "metadata": {},
   "outputs": [],
   "source": []
  }
 ],
 "metadata": {
  "kernelspec": {
   "display_name": ".env",
   "language": "python",
   "name": "python3"
  },
  "language_info": {
   "codemirror_mode": {
    "name": "ipython",
    "version": 3
   },
   "file_extension": ".py",
   "mimetype": "text/x-python",
   "name": "python",
   "nbconvert_exporter": "python",
   "pygments_lexer": "ipython3",
   "version": "3.10.12"
  },
  "orig_nbformat": 4
 },
 "nbformat": 4,
 "nbformat_minor": 2
}
