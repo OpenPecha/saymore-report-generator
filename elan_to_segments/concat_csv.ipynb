{
 "cells": [
  {
   "cell_type": "code",
   "execution_count": 67,
   "metadata": {},
   "outputs": [],
   "source": [
    "import pandas as pd\n",
    "from pathlib import Path"
   ]
  },
  {
   "cell_type": "code",
   "execution_count": 68,
   "metadata": {},
   "outputs": [],
   "source": [
    "csv_path = Path('../data/csv')\n",
    "have_csv = set([e.stem for e in csv_path.iterdir() if e.is_file()])"
   ]
  },
  {
   "cell_type": "code",
   "execution_count": 69,
   "metadata": {},
   "outputs": [
    {
     "name": "stdout",
     "output_type": "stream",
     "text": [
      "44368\n"
     ]
    }
   ],
   "source": [
    "from datetime import datetime\n",
    "def sec_to_millis(sec):\n",
    "    return sec * 1000\n",
    "\n",
    "def time_to_milli_seconds(time_str):\n",
    "    try:\n",
    "        time_obj = datetime.strptime(time_str, '%H:%M:%S.%f')\n",
    "        total_seconds = (time_obj.hour * 3600) + (time_obj.minute * 60) + time_obj.second + (time_obj.microsecond / 1e6)\n",
    "        return str(round(sec_to_millis(total_seconds)))\n",
    "    except ValueError:\n",
    "        raise ValueError(\"Invalid time format. Use '00:00:44.368' format.\")\n",
    "\n",
    "# Example usage:\n",
    "time_str = \"00:00:44.368\"\n",
    "mills = time_to_milli_seconds(time_str)\n",
    "print(mills)"
   ]
  },
  {
   "cell_type": "code",
   "execution_count": 70,
   "metadata": {},
   "outputs": [],
   "source": [
    "import pandas as pd\n",
    "from pathlib import Path\n",
    "dfs = []\n",
    "\n",
    "def get_path(row, index_value, file):\n",
    "    return f\"{file}_{index_value:04}_{time_to_milli_seconds(row['from'])}_to_{time_to_milli_seconds(row['to'])}.wav\"\n",
    "\n",
    "for file in have_csv:\n",
    "    df = pd.read_csv(f\"../data/csv/{file}.csv\")\n",
    "    s = df.apply(lambda row: get_path(row, row.name, file), axis=1)\n",
    "    df = pd.concat([df, s],ignore_index=True, axis=1)\n",
    "    dfs.append(df)\n",
    "\n",
    "df = pd.concat(dfs)"
   ]
  },
  {
   "cell_type": "code",
   "execution_count": 71,
   "metadata": {},
   "outputs": [],
   "source": [
    "df = df[[3,4]].rename(columns={3: \"sentence\", 4: \"path\"})"
   ]
  },
  {
   "cell_type": "code",
   "execution_count": 72,
   "metadata": {},
   "outputs": [
    {
     "data": {
      "text/html": [
       "<div>\n",
       "<style scoped>\n",
       "    .dataframe tbody tr th:only-of-type {\n",
       "        vertical-align: middle;\n",
       "    }\n",
       "\n",
       "    .dataframe tbody tr th {\n",
       "        vertical-align: top;\n",
       "    }\n",
       "\n",
       "    .dataframe thead th {\n",
       "        text-align: right;\n",
       "    }\n",
       "</style>\n",
       "<table border=\"1\" class=\"dataframe\">\n",
       "  <thead>\n",
       "    <tr style=\"text-align: right;\">\n",
       "      <th></th>\n",
       "      <th>sentence</th>\n",
       "      <th>path</th>\n",
       "    </tr>\n",
       "  </thead>\n",
       "  <tbody>\n",
       "    <tr>\n",
       "      <th>0</th>\n",
       "      <td>ང་ལོ་གཅིག་ལ་བསླེབས་དུས་རྨོ་ལགས་ཀིས་རྒལ་པ་བསྣམས...</td>\n",
       "      <td>STT_MV0178_0000_22205_to_31969.wav</td>\n",
       "    </tr>\n",
       "    <tr>\n",
       "      <th>1</th>\n",
       "      <td>ཨ་</td>\n",
       "      <td>STT_MV0178_0001_31969_to_41873.wav</td>\n",
       "    </tr>\n",
       "    <tr>\n",
       "      <th>2</th>\n",
       "      <td>མཚོ་རྫས་ཕུལ།</td>\n",
       "      <td>STT_MV0178_0002_58881_to_64039.wav</td>\n",
       "    </tr>\n",
       "    <tr>\n",
       "      <th>3</th>\n",
       "      <td>ཀླུའི་རྒྱལ་པོ་མཆོག</td>\n",
       "      <td>STT_MV0178_0003_89009_to_95813.wav</td>\n",
       "    </tr>\n",
       "    <tr>\n",
       "      <th>4</th>\n",
       "      <td>ཐན་སྐྱོན་ཚབས་ཆེན་བྱུང་ནས་འབངས་མི་སེར་ཚོ་ཤི་ཁར་...</td>\n",
       "      <td>STT_MV0178_0004_95813_to_100310.wav</td>\n",
       "    </tr>\n",
       "  </tbody>\n",
       "</table>\n",
       "</div>"
      ],
      "text/plain": [
       "                                            sentence  \\\n",
       "0  ང་ལོ་གཅིག་ལ་བསླེབས་དུས་རྨོ་ལགས་ཀིས་རྒལ་པ་བསྣམས...   \n",
       "1                                                 ཨ་   \n",
       "2                                       མཚོ་རྫས་ཕུལ།   \n",
       "3                                ཀླུའི་རྒྱལ་པོ་མཆོག    \n",
       "4  ཐན་སྐྱོན་ཚབས་ཆེན་བྱུང་ནས་འབངས་མི་སེར་ཚོ་ཤི་ཁར་...   \n",
       "\n",
       "                                  path  \n",
       "0   STT_MV0178_0000_22205_to_31969.wav  \n",
       "1   STT_MV0178_0001_31969_to_41873.wav  \n",
       "2   STT_MV0178_0002_58881_to_64039.wav  \n",
       "3   STT_MV0178_0003_89009_to_95813.wav  \n",
       "4  STT_MV0178_0004_95813_to_100310.wav  "
      ]
     },
     "execution_count": 72,
     "metadata": {},
     "output_type": "execute_result"
    }
   ],
   "source": [
    "df.head()"
   ]
  },
  {
   "cell_type": "code",
   "execution_count": 73,
   "metadata": {},
   "outputs": [],
   "source": [
    "import re\n",
    "def clean_transcription(text):\n",
    "    text = text.replace('\\n', ' ')\n",
    "    text = text.strip()\n",
    "\n",
    "    text = re.sub(r\"་+\", \"་\", text)\n",
    "    text = re.sub(r\"།+\", \"།\", text)\n",
    "    text = re.sub(r\"\\s+\", \" \", text)\n",
    "    text = re.sub(r\"\\s+།\", \"།\", text)\n",
    "    chars_to_ignore_regex = '[\\,\\?\\.\\!\\-\\;\\:\\\"\\“\\%\\‘\\”\\�\\/\\{\\}\\(\\)\\༽\\》\\༼\\《\\༅\\༄\\༈\\༑\\༠]'\n",
    "    text = re.sub(chars_to_ignore_regex, '', text)+\" \"\n",
    "\n",
    "    return text\n",
    "\n",
    "def check_clean(text):\n",
    "    regex = re.compile(r'[a-zA-Z0-9]+')\n",
    "    match = re.search(regex, text)\n",
    "    return not bool(match)"
   ]
  },
  {
   "cell_type": "code",
   "execution_count": 74,
   "metadata": {},
   "outputs": [],
   "source": [
    "df['sentence'] = df['sentence'].map(clean_transcription)"
   ]
  },
  {
   "cell_type": "code",
   "execution_count": 75,
   "metadata": {},
   "outputs": [
    {
     "data": {
      "text/plain": [
       "97793"
      ]
     },
     "execution_count": 75,
     "metadata": {},
     "output_type": "execute_result"
    }
   ],
   "source": [
    "len(df)"
   ]
  },
  {
   "cell_type": "code",
   "execution_count": 76,
   "metadata": {},
   "outputs": [],
   "source": [
    "df = df[df['sentence'].apply(check_clean)]"
   ]
  },
  {
   "cell_type": "code",
   "execution_count": 77,
   "metadata": {},
   "outputs": [
    {
     "data": {
      "text/plain": [
       "97787"
      ]
     },
     "execution_count": 77,
     "metadata": {},
     "output_type": "execute_result"
    }
   ],
   "source": [
    "len(df)"
   ]
  },
  {
   "cell_type": "code",
   "execution_count": 78,
   "metadata": {},
   "outputs": [],
   "source": [
    "df.to_csv('stt_mv-uni.tsv', index=False, sep = '\\t')"
   ]
  },
  {
   "cell_type": "code",
   "execution_count": 79,
   "metadata": {},
   "outputs": [
    {
     "data": {
      "text/plain": [
       "path\n",
       "True    97787\n",
       "Name: count, dtype: int64"
      ]
     },
     "execution_count": 79,
     "metadata": {},
     "output_type": "execute_result"
    }
   ],
   "source": [
    "df['path'].apply(lambda x: Path(\"/home/monlamai/Documents/GitHub/saymore-report-generator/data/segments/\"+x).exists()).value_counts()"
   ]
  },
  {
   "cell_type": "code",
   "execution_count": 41,
   "metadata": {},
   "outputs": [
    {
     "name": "stdout",
     "output_type": "stream",
     "text": [
      "Collecting pyewts\n",
      "  Using cached pyewts-0.2.0.tar.gz (18 kB)\n",
      "  Preparing metadata (setup.py) ... \u001b[?25ldone\n",
      "\u001b[?25hBuilding wheels for collected packages: pyewts\n",
      "  Building wheel for pyewts (setup.py) ... \u001b[?25ldone\n",
      "\u001b[?25h  Created wheel for pyewts: filename=pyewts-0.2.0-py3-none-any.whl size=16846 sha256=17d4fd8cdf07c6eaed1907b9304cfdd15dcd9a8115a1c4838d29b615502d3a5e\n",
      "  Stored in directory: /home/monlamai/.cache/pip/wheels/88/60/74/963829fa17f8c05336ee8e674ef0c1e32ebe8aa6f7c20dd960\n",
      "Successfully built pyewts\n",
      "Installing collected packages: pyewts\n",
      "Successfully installed pyewts-0.2.0\n"
     ]
    }
   ],
   "source": [
    "!pip install pyewts"
   ]
  },
  {
   "cell_type": "code",
   "execution_count": 80,
   "metadata": {},
   "outputs": [],
   "source": [
    "import pyewts\n",
    "converter = pyewts.pyewts()"
   ]
  },
  {
   "cell_type": "code",
   "execution_count": 81,
   "metadata": {},
   "outputs": [],
   "source": [
    "df['sentence'] = df['sentence'].apply(lambda x: converter.toWylie(x))"
   ]
  },
  {
   "cell_type": "code",
   "execution_count": 82,
   "metadata": {},
   "outputs": [],
   "source": [
    "df.to_csv(\"stt_mv-wylie.tsv\", sep='\\t', index=False)"
   ]
  }
 ],
 "metadata": {
  "kernelspec": {
   "display_name": ".env",
   "language": "python",
   "name": "python3"
  },
  "language_info": {
   "codemirror_mode": {
    "name": "ipython",
    "version": 3
   },
   "file_extension": ".py",
   "mimetype": "text/x-python",
   "name": "python",
   "nbconvert_exporter": "python",
   "pygments_lexer": "ipython3",
   "version": "3.10.12"
  },
  "orig_nbformat": 4
 },
 "nbformat": 4,
 "nbformat_minor": 2
}
