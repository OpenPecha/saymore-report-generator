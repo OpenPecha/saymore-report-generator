{
 "cells": [
  {
   "cell_type": "code",
   "execution_count": 100,
   "metadata": {},
   "outputs": [],
   "source": [
    "import pandas as pd\n",
    "from pathlib import Path"
   ]
  },
  {
   "cell_type": "code",
   "execution_count": 101,
   "metadata": {},
   "outputs": [],
   "source": [
    "csv_path = Path('../data/csv')\n",
    "have_csv = set([e.stem for e in csv_path.iterdir() if e.is_file()])"
   ]
  },
  {
   "cell_type": "code",
   "execution_count": 102,
   "metadata": {},
   "outputs": [
    {
     "name": "stdout",
     "output_type": "stream",
     "text": [
      "44368\n"
     ]
    }
   ],
   "source": [
    "from datetime import datetime\n",
    "def sec_to_millis(sec):\n",
    "    return sec * 1000\n",
    "\n",
    "def time_to_milli_seconds(time_str):\n",
    "    try:\n",
    "        time_obj = datetime.strptime(time_str, '%H:%M:%S.%f')\n",
    "        total_seconds = (time_obj.hour * 3600) + (time_obj.minute * 60) + time_obj.second + (time_obj.microsecond / 1e6)\n",
    "        return str(round(sec_to_millis(total_seconds)))\n",
    "    except ValueError:\n",
    "        raise ValueError(\"Invalid time format. Use '00:00:44.368' format.\")\n",
    "\n",
    "# Example usage:\n",
    "time_str = \"00:00:44.368\"\n",
    "mills = time_to_milli_seconds(time_str)\n",
    "print(mills)"
   ]
  },
  {
   "cell_type": "code",
   "execution_count": 103,
   "metadata": {},
   "outputs": [],
   "source": [
    "import pandas as pd\n",
    "from pathlib import Path\n",
    "dfs = []\n",
    "\n",
    "def get_path(row, index_value, file):\n",
    "    return f\"{file}_{index_value:04}_{time_to_milli_seconds(row['from'])}_to_{time_to_milli_seconds(row['to'])}.wav\"\n",
    "\n",
    "for file in have_csv:\n",
    "    df = pd.read_csv(f\"../data/csv/{file}.csv\")\n",
    "    s = df.apply(lambda row: get_path(row, row.name, file), axis=1)\n",
    "    df = pd.concat([df, s],ignore_index=True, axis=1)\n",
    "    dfs.append(df)\n",
    "\n",
    "df = pd.concat(dfs)"
   ]
  },
  {
   "cell_type": "code",
   "execution_count": 104,
   "metadata": {},
   "outputs": [],
   "source": [
    "df = df[[3,4]].rename(columns={3: \"uni\", 4: \"file_name\"})"
   ]
  },
  {
   "cell_type": "code",
   "execution_count": 105,
   "metadata": {},
   "outputs": [
    {
     "data": {
      "text/html": [
       "<div>\n",
       "<style scoped>\n",
       "    .dataframe tbody tr th:only-of-type {\n",
       "        vertical-align: middle;\n",
       "    }\n",
       "\n",
       "    .dataframe tbody tr th {\n",
       "        vertical-align: top;\n",
       "    }\n",
       "\n",
       "    .dataframe thead th {\n",
       "        text-align: right;\n",
       "    }\n",
       "</style>\n",
       "<table border=\"1\" class=\"dataframe\">\n",
       "  <thead>\n",
       "    <tr style=\"text-align: right;\">\n",
       "      <th></th>\n",
       "      <th>uni</th>\n",
       "      <th>file_name</th>\n",
       "    </tr>\n",
       "  </thead>\n",
       "  <tbody>\n",
       "    <tr>\n",
       "      <th>0</th>\n",
       "      <td>མཱ་ལིས་ཡ། ཧྲའོ་ཤའོ་ཕེབས་སོང་།</td>\n",
       "      <td>STT_MV0176_0000_151117_to_154945.wav</td>\n",
       "    </tr>\n",
       "    <tr>\n",
       "      <th>1</th>\n",
       "      <td>མཱ་ལིས་ཡ་རང་ལོག་ཞིག</td>\n",
       "      <td>STT_MV0176_0001_154945_to_163864.wav</td>\n",
       "    </tr>\n",
       "    <tr>\n",
       "      <th>2</th>\n",
       "      <td>དྲ་བ་བཀྲམས་བྱས་ཤིན་ནུའུ་ཤིན་ལིང་ངོས་ལ་མདུན་སྐྱ...</td>\n",
       "      <td>STT_MV0176_0002_163864_to_173863.wav</td>\n",
       "    </tr>\n",
       "    <tr>\n",
       "      <th>3</th>\n",
       "      <td>རྒྱུག་ཤར་གློད།</td>\n",
       "      <td>STT_MV0176_0003_173863_to_182596.wav</td>\n",
       "    </tr>\n",
       "    <tr>\n",
       "      <th>4</th>\n",
       "      <td>ད་དུང་ཆུ་ཚོད་གཅིག་དང་ཕྱེ་ཀ་ནས་ང་ཚོའི་རོགས་སྐྱོ...</td>\n",
       "      <td>STT_MV0176_0004_193769_to_199101.wav</td>\n",
       "    </tr>\n",
       "  </tbody>\n",
       "</table>\n",
       "</div>"
      ],
      "text/plain": [
       "                                                 uni  \\\n",
       "0                      མཱ་ལིས་ཡ། ཧྲའོ་ཤའོ་ཕེབས་སོང་།   \n",
       "1                                མཱ་ལིས་ཡ་རང་ལོག་ཞིག   \n",
       "2  དྲ་བ་བཀྲམས་བྱས་ཤིན་ནུའུ་ཤིན་ལིང་ངོས་ལ་མདུན་སྐྱ...   \n",
       "3                                     རྒྱུག་ཤར་གློད།   \n",
       "4  ད་དུང་ཆུ་ཚོད་གཅིག་དང་ཕྱེ་ཀ་ནས་ང་ཚོའི་རོགས་སྐྱོ...   \n",
       "\n",
       "                              file_name  \n",
       "0  STT_MV0176_0000_151117_to_154945.wav  \n",
       "1  STT_MV0176_0001_154945_to_163864.wav  \n",
       "2  STT_MV0176_0002_163864_to_173863.wav  \n",
       "3  STT_MV0176_0003_173863_to_182596.wav  \n",
       "4  STT_MV0176_0004_193769_to_199101.wav  "
      ]
     },
     "execution_count": 105,
     "metadata": {},
     "output_type": "execute_result"
    }
   ],
   "source": [
    "df.head()"
   ]
  },
  {
   "cell_type": "code",
   "execution_count": 106,
   "metadata": {},
   "outputs": [],
   "source": [
    "import re\n",
    "def clean_transcription(text):\n",
    "    text = text.replace('\\n', ' ')\n",
    "    text = text.replace('\\t', ' ')\n",
    "    text = text.strip()\n",
    "\n",
    "    text = re.sub(r\"་+\", \"་\", text)\n",
    "    text = re.sub(r\"།+\", \"།\", text)\n",
    "    text = re.sub(r\"\\s+\", \" \", text)\n",
    "    text = re.sub(r\"\\s+།\", \"།\", text)\n",
    "    chars_to_ignore_regex = '[\\,\\?\\.\\!\\-\\;\\:\\\"\\“\\%\\‘\\”\\�\\/\\{\\}\\(\\)\\༽\\》\\༼\\《\\༅\\༄\\༈\\༑\\༠]'\n",
    "    text = re.sub(chars_to_ignore_regex, '', text)+\" \"\n",
    "\n",
    "    return text\n",
    "\n",
    "def check_clean(text):\n",
    "    regex = re.compile(r'[a-zA-Z0-9]+')\n",
    "    match = re.search(regex, text)\n",
    "    return not bool(match)"
   ]
  },
  {
   "cell_type": "code",
   "execution_count": 107,
   "metadata": {},
   "outputs": [],
   "source": [
    "df['uni'] = df['uni'].map(clean_transcription)"
   ]
  },
  {
   "cell_type": "code",
   "execution_count": 108,
   "metadata": {},
   "outputs": [
    {
     "data": {
      "text/plain": [
       "98115"
      ]
     },
     "execution_count": 108,
     "metadata": {},
     "output_type": "execute_result"
    }
   ],
   "source": [
    "len(df)"
   ]
  },
  {
   "cell_type": "code",
   "execution_count": 109,
   "metadata": {},
   "outputs": [],
   "source": [
    "df = df[df['uni'].apply(check_clean)]"
   ]
  },
  {
   "cell_type": "code",
   "execution_count": 110,
   "metadata": {},
   "outputs": [
    {
     "data": {
      "text/plain": [
       "98109"
      ]
     },
     "execution_count": 110,
     "metadata": {},
     "output_type": "execute_result"
    }
   ],
   "source": [
    "len(df)"
   ]
  },
  {
   "cell_type": "code",
   "execution_count": 111,
   "metadata": {},
   "outputs": [
    {
     "data": {
      "text/plain": [
       "file_name\n",
       "True    98109\n",
       "Name: count, dtype: int64"
      ]
     },
     "execution_count": 111,
     "metadata": {},
     "output_type": "execute_result"
    }
   ],
   "source": [
    "df['file_name'].apply(lambda x: Path(\"/home/monlamai/Documents/GitHub/saymore-report-generator/data/segments/\"+x).exists()).value_counts()"
   ]
  },
  {
   "cell_type": "code",
   "execution_count": 112,
   "metadata": {},
   "outputs": [],
   "source": [
    "# !pip install pyewts"
   ]
  },
  {
   "cell_type": "code",
   "execution_count": 113,
   "metadata": {},
   "outputs": [],
   "source": [
    "import pyewts\n",
    "converter = pyewts.pyewts()"
   ]
  },
  {
   "cell_type": "code",
   "execution_count": 114,
   "metadata": {},
   "outputs": [],
   "source": [
    "df['wylie'] = df['uni'].apply(lambda x: converter.toWylie(x))"
   ]
  },
  {
   "cell_type": "code",
   "execution_count": 115,
   "metadata": {},
   "outputs": [],
   "source": [
    "df['url'] = df['file_name'].apply(lambda x: f\"https://d38pmlk0v88drf.cloudfront.net/mv_wav/{x}\")\n",
    "df['dept'] = df.file_name.apply(lambda x: x[:6])"
   ]
  },
  {
   "cell_type": "code",
   "execution_count": 116,
   "metadata": {},
   "outputs": [],
   "source": [
    "df = df.sample(frac=1)"
   ]
  },
  {
   "cell_type": "code",
   "execution_count": 117,
   "metadata": {},
   "outputs": [],
   "source": [
    "df = df[['file_name', 'uni', 'wylie', 'url', 'dept']]"
   ]
  },
  {
   "cell_type": "code",
   "execution_count": 118,
   "metadata": {},
   "outputs": [
    {
     "data": {
      "text/html": [
       "<div>\n",
       "<style scoped>\n",
       "    .dataframe tbody tr th:only-of-type {\n",
       "        vertical-align: middle;\n",
       "    }\n",
       "\n",
       "    .dataframe tbody tr th {\n",
       "        vertical-align: top;\n",
       "    }\n",
       "\n",
       "    .dataframe thead th {\n",
       "        text-align: right;\n",
       "    }\n",
       "</style>\n",
       "<table border=\"1\" class=\"dataframe\">\n",
       "  <thead>\n",
       "    <tr style=\"text-align: right;\">\n",
       "      <th></th>\n",
       "      <th>file_name</th>\n",
       "      <th>uni</th>\n",
       "      <th>wylie</th>\n",
       "      <th>url</th>\n",
       "      <th>dept</th>\n",
       "    </tr>\n",
       "  </thead>\n",
       "  <tbody>\n",
       "    <tr>\n",
       "      <th>257</th>\n",
       "      <td>STT_MV0044_0257_1663248_to_1673096.wav</td>\n",
       "      <td>བླ་སྨན་ཝང་ལགས། ཁྱེད་རང་གིས་ཞིས་ལའེ་ལི་མ་མཐོང་ག...</td>\n",
       "      <td>bla sman wang lags/_khyed rang gis zhis la'e l...</td>\n",
       "      <td>https://d38pmlk0v88drf.cloudfront.net/mv_wav/S...</td>\n",
       "      <td>STT_MV</td>\n",
       "    </tr>\n",
       "    <tr>\n",
       "      <th>388</th>\n",
       "      <td>STT_MV0178_0388_4086331_to_4087613.wav</td>\n",
       "      <td>རྫས་མདེལ་ཚང་མ་རྦད་དེ་རྫོགས་སོང་།</td>\n",
       "      <td>rdzas mdel tshang ma rbad de rdzogs song /_</td>\n",
       "      <td>https://d38pmlk0v88drf.cloudfront.net/mv_wav/S...</td>\n",
       "      <td>STT_MV</td>\n",
       "    </tr>\n",
       "    <tr>\n",
       "      <th>321</th>\n",
       "      <td>STT_MV0200_0321_2365061_to_2374202.wav</td>\n",
       "      <td>ཨ་ཅག་ལ་སྤུན་དོག་གཟིགས་ཀེ། ཉོ་ཡི་མིན།་སྤུན་དོག་...</td>\n",
       "      <td>a cag la spun dog gzigs ke/_nyo yi min/ spun d...</td>\n",
       "      <td>https://d38pmlk0v88drf.cloudfront.net/mv_wav/S...</td>\n",
       "      <td>STT_MV</td>\n",
       "    </tr>\n",
       "    <tr>\n",
       "      <th>95</th>\n",
       "      <td>STT_MV0103_0095_653959_to_659897.wav</td>\n",
       "      <td>ལྟ་ཞིབ་པའི་མོས་མཐུན་མ་བྱས་ན་སུས་རང་གར་མཐོ་སྤར་...</td>\n",
       "      <td>lta zhib pa'i mos mthun ma byas na sus rang ga...</td>\n",
       "      <td>https://d38pmlk0v88drf.cloudfront.net/mv_wav/S...</td>\n",
       "      <td>STT_MV</td>\n",
       "    </tr>\n",
       "    <tr>\n",
       "      <th>101</th>\n",
       "      <td>STT_MV0087_0101_979476_to_980796.wav</td>\n",
       "      <td>ངས་སྡེར་ས་རང་མིན།</td>\n",
       "      <td>ngas sder sa rang min/_</td>\n",
       "      <td>https://d38pmlk0v88drf.cloudfront.net/mv_wav/S...</td>\n",
       "      <td>STT_MV</td>\n",
       "    </tr>\n",
       "  </tbody>\n",
       "</table>\n",
       "</div>"
      ],
      "text/plain": [
       "                                  file_name  \\\n",
       "257  STT_MV0044_0257_1663248_to_1673096.wav   \n",
       "388  STT_MV0178_0388_4086331_to_4087613.wav   \n",
       "321  STT_MV0200_0321_2365061_to_2374202.wav   \n",
       "95     STT_MV0103_0095_653959_to_659897.wav   \n",
       "101    STT_MV0087_0101_979476_to_980796.wav   \n",
       "\n",
       "                                                   uni  \\\n",
       "257  བླ་སྨན་ཝང་ལགས། ཁྱེད་རང་གིས་ཞིས་ལའེ་ལི་མ་མཐོང་ག...   \n",
       "388                  རྫས་མདེལ་ཚང་མ་རྦད་དེ་རྫོགས་སོང་།    \n",
       "321  ཨ་ཅག་ལ་སྤུན་དོག་གཟིགས་ཀེ། ཉོ་ཡི་མིན།་སྤུན་དོག་...   \n",
       "95   ལྟ་ཞིབ་པའི་མོས་མཐུན་མ་བྱས་ན་སུས་རང་གར་མཐོ་སྤར་...   \n",
       "101                                 ངས་སྡེར་ས་རང་མིན།    \n",
       "\n",
       "                                                 wylie  \\\n",
       "257  bla sman wang lags/_khyed rang gis zhis la'e l...   \n",
       "388        rdzas mdel tshang ma rbad de rdzogs song /_   \n",
       "321  a cag la spun dog gzigs ke/_nyo yi min/ spun d...   \n",
       "95   lta zhib pa'i mos mthun ma byas na sus rang ga...   \n",
       "101                            ngas sder sa rang min/_   \n",
       "\n",
       "                                                   url    dept  \n",
       "257  https://d38pmlk0v88drf.cloudfront.net/mv_wav/S...  STT_MV  \n",
       "388  https://d38pmlk0v88drf.cloudfront.net/mv_wav/S...  STT_MV  \n",
       "321  https://d38pmlk0v88drf.cloudfront.net/mv_wav/S...  STT_MV  \n",
       "95   https://d38pmlk0v88drf.cloudfront.net/mv_wav/S...  STT_MV  \n",
       "101  https://d38pmlk0v88drf.cloudfront.net/mv_wav/S...  STT_MV  "
      ]
     },
     "execution_count": 118,
     "metadata": {},
     "output_type": "execute_result"
    }
   ],
   "source": [
    "df.head()"
   ]
  },
  {
   "cell_type": "code",
   "execution_count": 119,
   "metadata": {},
   "outputs": [],
   "source": [
    "df.to_csv(\"stt_mv.tsv\", sep='\\t', index=False)"
   ]
  },
  {
   "cell_type": "code",
   "execution_count": 120,
   "metadata": {},
   "outputs": [
    {
     "data": {
      "text/plain": [
       "98109"
      ]
     },
     "execution_count": 120,
     "metadata": {},
     "output_type": "execute_result"
    }
   ],
   "source": [
    "len(df)"
   ]
  },
  {
   "cell_type": "code",
   "execution_count": 121,
   "metadata": {},
   "outputs": [
    {
     "name": "stdout",
     "output_type": "stream",
     "text": [
      "88298 4905 4906 True\n",
      "88298 4905 4906 True\n"
     ]
    }
   ],
   "source": [
    "total = len(df)\n",
    "\n",
    "train_len = int(total * 0.9)\n",
    "val_len = int(total * 0.05)\n",
    "test_len = total - train_len - val_len\n",
    "print(train_len, val_len, test_len, total == train_len + val_len + test_len)\n",
    "\n",
    "train_df = df[:train_len]\n",
    "val_df = df[train_len:train_len + val_len]\n",
    "test_df = df[train_len + val_len:]\n",
    "\n",
    "print(len(train_df), len(val_df), len(test_df), len(train_df) + len(val_df) + len(test_df) == total)"
   ]
  },
  {
   "cell_type": "code",
   "execution_count": 122,
   "metadata": {},
   "outputs": [],
   "source": [
    "train_df.to_csv('train.tsv', index=False, sep='\\t')\n",
    "test_df.to_csv('test.tsv', index=False, sep='\\t')\n",
    "val_df.to_csv('validation.tsv', index=False, sep='\\t')"
   ]
  }
 ],
 "metadata": {
  "kernelspec": {
   "display_name": ".env",
   "language": "python",
   "name": "python3"
  },
  "language_info": {
   "codemirror_mode": {
    "name": "ipython",
    "version": 3
   },
   "file_extension": ".py",
   "mimetype": "text/x-python",
   "name": "python",
   "nbconvert_exporter": "python",
   "pygments_lexer": "ipython3",
   "version": "3.10.12"
  },
  "orig_nbformat": 4
 },
 "nbformat": 4,
 "nbformat_minor": 2
}
