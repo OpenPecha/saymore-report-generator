{
 "cells": [
  {
   "cell_type": "code",
   "execution_count": 77,
   "metadata": {},
   "outputs": [],
   "source": [
    "import pandas as pd\n",
    "from pathlib import Path"
   ]
  },
  {
   "cell_type": "code",
   "execution_count": 78,
   "metadata": {},
   "outputs": [],
   "source": [
    "csv_path = Path('../data/csv')\n",
    "have_csv = set([e.stem for e in csv_path.iterdir() if e.is_file()])"
   ]
  },
  {
   "cell_type": "code",
   "execution_count": 79,
   "metadata": {},
   "outputs": [
    {
     "name": "stdout",
     "output_type": "stream",
     "text": [
      "44368\n"
     ]
    }
   ],
   "source": [
    "from datetime import datetime\n",
    "def sec_to_millis(sec):\n",
    "    return sec * 1000\n",
    "\n",
    "def time_to_milli_seconds(time_str):\n",
    "    try:\n",
    "        time_obj = datetime.strptime(time_str, '%H:%M:%S.%f')\n",
    "        total_seconds = (time_obj.hour * 3600) + (time_obj.minute * 60) + time_obj.second + (time_obj.microsecond / 1e6)\n",
    "        return str(round(sec_to_millis(total_seconds)))\n",
    "    except ValueError:\n",
    "        raise ValueError(\"Invalid time format. Use '00:00:44.368' format.\")\n",
    "\n",
    "# Example usage:\n",
    "time_str = \"00:00:44.368\"\n",
    "mills = time_to_milli_seconds(time_str)\n",
    "print(mills)"
   ]
  },
  {
   "cell_type": "code",
   "execution_count": 80,
   "metadata": {},
   "outputs": [],
   "source": [
    "import pandas as pd\n",
    "from pathlib import Path\n",
    "dfs = []\n",
    "\n",
    "def get_path(row, index_value, file):\n",
    "    return f\"{file}_{index_value:04}_{time_to_milli_seconds(row['from'])}_to_{time_to_milli_seconds(row['to'])}.wav\"\n",
    "\n",
    "for file in have_csv:\n",
    "    df = pd.read_csv(f\"../data/csv/{file}.csv\")\n",
    "    s = df.apply(lambda row: get_path(row, row.name, file), axis=1)\n",
    "    df = pd.concat([df, s],ignore_index=True, axis=1)\n",
    "    dfs.append(df)\n",
    "\n",
    "df = pd.concat(dfs)"
   ]
  },
  {
   "cell_type": "code",
   "execution_count": 81,
   "metadata": {},
   "outputs": [],
   "source": [
    "df = df[[3,4]].rename(columns={3: \"uni\", 4: \"file_name\"})"
   ]
  },
  {
   "cell_type": "code",
   "execution_count": 82,
   "metadata": {},
   "outputs": [
    {
     "data": {
      "text/html": [
       "<div>\n",
       "<style scoped>\n",
       "    .dataframe tbody tr th:only-of-type {\n",
       "        vertical-align: middle;\n",
       "    }\n",
       "\n",
       "    .dataframe tbody tr th {\n",
       "        vertical-align: top;\n",
       "    }\n",
       "\n",
       "    .dataframe thead th {\n",
       "        text-align: right;\n",
       "    }\n",
       "</style>\n",
       "<table border=\"1\" class=\"dataframe\">\n",
       "  <thead>\n",
       "    <tr style=\"text-align: right;\">\n",
       "      <th></th>\n",
       "      <th>uni</th>\n",
       "      <th>file_name</th>\n",
       "    </tr>\n",
       "  </thead>\n",
       "  <tbody>\n",
       "    <tr>\n",
       "      <th>0</th>\n",
       "      <td>མཱ་ལིས་ཡ། ཧྲའོ་ཤའོ་ཕེབས་སོང་།</td>\n",
       "      <td>STT_MV0176_0000_151117_to_154945.wav</td>\n",
       "    </tr>\n",
       "    <tr>\n",
       "      <th>1</th>\n",
       "      <td>མཱ་ལིས་ཡ་རང་ལོག་ཞིག</td>\n",
       "      <td>STT_MV0176_0001_154945_to_163864.wav</td>\n",
       "    </tr>\n",
       "    <tr>\n",
       "      <th>2</th>\n",
       "      <td>དྲ་བ་བཀྲམས་བྱས་ཤིན་ནུའུ་ཤིན་ལིང་ངོས་ལ་མདུན་སྐྱ...</td>\n",
       "      <td>STT_MV0176_0002_163864_to_173863.wav</td>\n",
       "    </tr>\n",
       "    <tr>\n",
       "      <th>3</th>\n",
       "      <td>རྒྱུག་ཤར་གློད།</td>\n",
       "      <td>STT_MV0176_0003_173863_to_182596.wav</td>\n",
       "    </tr>\n",
       "    <tr>\n",
       "      <th>4</th>\n",
       "      <td>ད་དུང་ཆུ་ཚོད་གཅིག་དང་ཕྱེ་ཀ་ནས་ང་ཚོའི་རོགས་སྐྱོ...</td>\n",
       "      <td>STT_MV0176_0004_193769_to_199101.wav</td>\n",
       "    </tr>\n",
       "  </tbody>\n",
       "</table>\n",
       "</div>"
      ],
      "text/plain": [
       "                                                 uni  \\\n",
       "0                      མཱ་ལིས་ཡ། ཧྲའོ་ཤའོ་ཕེབས་སོང་།   \n",
       "1                                མཱ་ལིས་ཡ་རང་ལོག་ཞིག   \n",
       "2  དྲ་བ་བཀྲམས་བྱས་ཤིན་ནུའུ་ཤིན་ལིང་ངོས་ལ་མདུན་སྐྱ...   \n",
       "3                                     རྒྱུག་ཤར་གློད།   \n",
       "4  ད་དུང་ཆུ་ཚོད་གཅིག་དང་ཕྱེ་ཀ་ནས་ང་ཚོའི་རོགས་སྐྱོ...   \n",
       "\n",
       "                              file_name  \n",
       "0  STT_MV0176_0000_151117_to_154945.wav  \n",
       "1  STT_MV0176_0001_154945_to_163864.wav  \n",
       "2  STT_MV0176_0002_163864_to_173863.wav  \n",
       "3  STT_MV0176_0003_173863_to_182596.wav  \n",
       "4  STT_MV0176_0004_193769_to_199101.wav  "
      ]
     },
     "execution_count": 82,
     "metadata": {},
     "output_type": "execute_result"
    }
   ],
   "source": [
    "df.head()"
   ]
  },
  {
   "cell_type": "code",
   "execution_count": 83,
   "metadata": {},
   "outputs": [],
   "source": [
    "import re\n",
    "def clean_transcription(text):\n",
    "    text = text.replace('\\n', ' ')\n",
    "    text = text.replace('\\t', ' ')\n",
    "    text = text.strip()\n",
    "\n",
    "    text = re.sub(r\"་+\", \"་\", text)\n",
    "    text = re.sub(r\"།+\", \"།\", text)\n",
    "    text = re.sub(r\"\\s+\", \" \", text)\n",
    "    text = re.sub(r\"\\s+།\", \"།\", text)\n",
    "    chars_to_ignore_regex = '[\\,\\?\\.\\!\\-\\;\\:\\\"\\“\\%\\‘\\”\\�\\/\\{\\}\\(\\)\\༽\\》\\༼\\《\\༅\\༄\\༈\\༑\\༠]'\n",
    "    text = re.sub(chars_to_ignore_regex, '', text)+\" \"\n",
    "\n",
    "    return text\n",
    "\n",
    "def check_clean(text):\n",
    "    regex = re.compile(r'[a-zA-Z0-9]+')\n",
    "    match = re.search(regex, text)\n",
    "    return not bool(match)"
   ]
  },
  {
   "cell_type": "code",
   "execution_count": 84,
   "metadata": {},
   "outputs": [],
   "source": [
    "df['uni'] = df['uni'].map(clean_transcription)"
   ]
  },
  {
   "cell_type": "code",
   "execution_count": 85,
   "metadata": {},
   "outputs": [
    {
     "data": {
      "text/plain": [
       "98115"
      ]
     },
     "execution_count": 85,
     "metadata": {},
     "output_type": "execute_result"
    }
   ],
   "source": [
    "len(df)"
   ]
  },
  {
   "cell_type": "code",
   "execution_count": 86,
   "metadata": {},
   "outputs": [],
   "source": [
    "df = df[df['uni'].apply(check_clean)]"
   ]
  },
  {
   "cell_type": "code",
   "execution_count": 87,
   "metadata": {},
   "outputs": [
    {
     "data": {
      "text/plain": [
       "98109"
      ]
     },
     "execution_count": 87,
     "metadata": {},
     "output_type": "execute_result"
    }
   ],
   "source": [
    "len(df)"
   ]
  },
  {
   "cell_type": "code",
   "execution_count": 88,
   "metadata": {},
   "outputs": [
    {
     "data": {
      "text/plain": [
       "file_name\n",
       "True    98109\n",
       "Name: count, dtype: int64"
      ]
     },
     "execution_count": 88,
     "metadata": {},
     "output_type": "execute_result"
    }
   ],
   "source": [
    "df['file_name'].apply(lambda x: Path(\"/home/monlamai/Documents/GitHub/saymore-report-generator/data/segments/\"+x).exists()).value_counts()"
   ]
  },
  {
   "cell_type": "code",
   "execution_count": 89,
   "metadata": {},
   "outputs": [],
   "source": [
    "# !pip install pyewts"
   ]
  },
  {
   "cell_type": "code",
   "execution_count": 90,
   "metadata": {},
   "outputs": [],
   "source": [
    "import pyewts\n",
    "converter = pyewts.pyewts()"
   ]
  },
  {
   "cell_type": "code",
   "execution_count": 91,
   "metadata": {},
   "outputs": [],
   "source": [
    "df['wylie'] = df['uni'].apply(lambda x: converter.toWylie(x))"
   ]
  },
  {
   "cell_type": "code",
   "execution_count": 92,
   "metadata": {},
   "outputs": [],
   "source": [
    "df['url'] = df['file_name'].apply(lambda x: f\"https://d38pmlk0v88drf.cloudfront.net/{x}\")\n",
    "df['dept'] = df.file_name.apply(lambda x: x[:6])"
   ]
  },
  {
   "cell_type": "code",
   "execution_count": 93,
   "metadata": {},
   "outputs": [],
   "source": [
    "df = df.sample(frac=1)"
   ]
  },
  {
   "cell_type": "code",
   "execution_count": 94,
   "metadata": {},
   "outputs": [],
   "source": [
    "df = df[['file_name', 'uni', 'wylie', 'url', 'dept']]"
   ]
  },
  {
   "cell_type": "code",
   "execution_count": 95,
   "metadata": {},
   "outputs": [
    {
     "data": {
      "text/html": [
       "<div>\n",
       "<style scoped>\n",
       "    .dataframe tbody tr th:only-of-type {\n",
       "        vertical-align: middle;\n",
       "    }\n",
       "\n",
       "    .dataframe tbody tr th {\n",
       "        vertical-align: top;\n",
       "    }\n",
       "\n",
       "    .dataframe thead th {\n",
       "        text-align: right;\n",
       "    }\n",
       "</style>\n",
       "<table border=\"1\" class=\"dataframe\">\n",
       "  <thead>\n",
       "    <tr style=\"text-align: right;\">\n",
       "      <th></th>\n",
       "      <th>file_name</th>\n",
       "      <th>uni</th>\n",
       "      <th>wylie</th>\n",
       "      <th>url</th>\n",
       "      <th>dept</th>\n",
       "    </tr>\n",
       "  </thead>\n",
       "  <tbody>\n",
       "    <tr>\n",
       "      <th>328</th>\n",
       "      <td>STT_MV0209_0328_2248346_to_2257270.wav</td>\n",
       "      <td>འདི་ནས་ཚུར་ཕེབས་ད། ག་ལས་ཡིན་ད</td>\n",
       "      <td>'di nas tshur phebs da/_ga las yin da_</td>\n",
       "      <td>https://d38pmlk0v88drf.cloudfront.net/STT_MV02...</td>\n",
       "      <td>STT_MV</td>\n",
       "    </tr>\n",
       "    <tr>\n",
       "      <th>259</th>\n",
       "      <td>STT_MV0464_0259_2560391_to_2567061.wav</td>\n",
       "      <td>ཁྱེད་རང་གསན་དང་། བྱིའུ་གི་སྐད་སྒྲ་སྙན་པོ་འདི།</td>\n",
       "      <td>khyed rang gsan dang /_byi'u gi skad sgra snya...</td>\n",
       "      <td>https://d38pmlk0v88drf.cloudfront.net/STT_MV04...</td>\n",
       "      <td>STT_MV</td>\n",
       "    </tr>\n",
       "    <tr>\n",
       "      <th>65</th>\n",
       "      <td>STT_MV0040_0065_606318_to_613188.wav</td>\n",
       "      <td>ཨ་ལས་ཁྱེད་རང་སངས་རྒྱས་ཀྱི་སྤྲུལ་པ་ཡིན་པ་རེད། ཡ...</td>\n",
       "      <td>a las khyed rang sangs rgyas kyi sprul pa yin ...</td>\n",
       "      <td>https://d38pmlk0v88drf.cloudfront.net/STT_MV00...</td>\n",
       "      <td>STT_MV</td>\n",
       "    </tr>\n",
       "    <tr>\n",
       "      <th>151</th>\n",
       "      <td>STT_MV0139_0151_1195879_to_1205596.wav</td>\n",
       "      <td>བུས་ཧན་ཟན་ཞོ་ཞོ་ཞིག་བསྐུར་ཤག ངས་ནི་བཟོ་ཤེས་ཀི་...</td>\n",
       "      <td>bus han zan zho zho zhig bskur shag_ngas ni bz...</td>\n",
       "      <td>https://d38pmlk0v88drf.cloudfront.net/STT_MV01...</td>\n",
       "      <td>STT_MV</td>\n",
       "    </tr>\n",
       "    <tr>\n",
       "      <th>39</th>\n",
       "      <td>STT_MV0154_0039_423657_to_431294.wav</td>\n",
       "      <td>སྨན་འགྲུབ་གྲུབ་ཡོད། ཨམ་རྗེ་ལགས་ཀིས་གསུང་ཡ་ལ། ས...</td>\n",
       "      <td>sman 'grub grub yod/_am rje lags kis gsung ya ...</td>\n",
       "      <td>https://d38pmlk0v88drf.cloudfront.net/STT_MV01...</td>\n",
       "      <td>STT_MV</td>\n",
       "    </tr>\n",
       "  </tbody>\n",
       "</table>\n",
       "</div>"
      ],
      "text/plain": [
       "                                  file_name  \\\n",
       "328  STT_MV0209_0328_2248346_to_2257270.wav   \n",
       "259  STT_MV0464_0259_2560391_to_2567061.wav   \n",
       "65     STT_MV0040_0065_606318_to_613188.wav   \n",
       "151  STT_MV0139_0151_1195879_to_1205596.wav   \n",
       "39     STT_MV0154_0039_423657_to_431294.wav   \n",
       "\n",
       "                                                   uni  \\\n",
       "328                     འདི་ནས་ཚུར་ཕེབས་ད། ག་ལས་ཡིན་ད    \n",
       "259     ཁྱེད་རང་གསན་དང་། བྱིའུ་གི་སྐད་སྒྲ་སྙན་པོ་འདི།    \n",
       "65   ཨ་ལས་ཁྱེད་རང་སངས་རྒྱས་ཀྱི་སྤྲུལ་པ་ཡིན་པ་རེད། ཡ...   \n",
       "151  བུས་ཧན་ཟན་ཞོ་ཞོ་ཞིག་བསྐུར་ཤག ངས་ནི་བཟོ་ཤེས་ཀི་...   \n",
       "39   སྨན་འགྲུབ་གྲུབ་ཡོད། ཨམ་རྗེ་ལགས་ཀིས་གསུང་ཡ་ལ། ས...   \n",
       "\n",
       "                                                 wylie  \\\n",
       "328             'di nas tshur phebs da/_ga las yin da_   \n",
       "259  khyed rang gsan dang /_byi'u gi skad sgra snya...   \n",
       "65   a las khyed rang sangs rgyas kyi sprul pa yin ...   \n",
       "151  bus han zan zho zho zhig bskur shag_ngas ni bz...   \n",
       "39   sman 'grub grub yod/_am rje lags kis gsung ya ...   \n",
       "\n",
       "                                                   url    dept  \n",
       "328  https://d38pmlk0v88drf.cloudfront.net/STT_MV02...  STT_MV  \n",
       "259  https://d38pmlk0v88drf.cloudfront.net/STT_MV04...  STT_MV  \n",
       "65   https://d38pmlk0v88drf.cloudfront.net/STT_MV00...  STT_MV  \n",
       "151  https://d38pmlk0v88drf.cloudfront.net/STT_MV01...  STT_MV  \n",
       "39   https://d38pmlk0v88drf.cloudfront.net/STT_MV01...  STT_MV  "
      ]
     },
     "execution_count": 95,
     "metadata": {},
     "output_type": "execute_result"
    }
   ],
   "source": [
    "df.head()"
   ]
  },
  {
   "cell_type": "code",
   "execution_count": 96,
   "metadata": {},
   "outputs": [],
   "source": [
    "df.to_csv(\"stt_mv.tsv\", sep='\\t', index=False)"
   ]
  },
  {
   "cell_type": "code",
   "execution_count": 97,
   "metadata": {},
   "outputs": [
    {
     "data": {
      "text/plain": [
       "98109"
      ]
     },
     "execution_count": 97,
     "metadata": {},
     "output_type": "execute_result"
    }
   ],
   "source": [
    "len(df)"
   ]
  },
  {
   "cell_type": "code",
   "execution_count": 98,
   "metadata": {},
   "outputs": [
    {
     "name": "stdout",
     "output_type": "stream",
     "text": [
      "88298 4905 4906 True\n",
      "88298 4905 4906 True\n"
     ]
    }
   ],
   "source": [
    "total = len(df)\n",
    "\n",
    "train_len = int(total * 0.9)\n",
    "val_len = int(total * 0.05)\n",
    "test_len = total - train_len - val_len\n",
    "print(train_len, val_len, test_len, total == train_len + val_len + test_len)\n",
    "\n",
    "train_df = df[:train_len]\n",
    "val_df = df[train_len:train_len + val_len]\n",
    "test_df = df[train_len + val_len:]\n",
    "\n",
    "print(len(train_df), len(val_df), len(test_df), len(train_df) + len(val_df) + len(test_df) == total)"
   ]
  },
  {
   "cell_type": "code",
   "execution_count": 99,
   "metadata": {},
   "outputs": [],
   "source": [
    "train_df.to_csv('train.tsv', index=False, sep='\\t')\n",
    "test_df.to_csv('test.tsv', index=False, sep='\\t')\n",
    "val_df.to_csv('validation.tsv', index=False, sep='\\t')"
   ]
  }
 ],
 "metadata": {
  "kernelspec": {
   "display_name": ".env",
   "language": "python",
   "name": "python3"
  },
  "language_info": {
   "codemirror_mode": {
    "name": "ipython",
    "version": 3
   },
   "file_extension": ".py",
   "mimetype": "text/x-python",
   "name": "python",
   "nbconvert_exporter": "python",
   "pygments_lexer": "ipython3",
   "version": "3.10.12"
  },
  "orig_nbformat": 4
 },
 "nbformat": 4,
 "nbformat_minor": 2
}
